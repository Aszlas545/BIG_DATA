{
 "cells": [
  {
   "cell_type": "markdown",
   "id": "c542e7b3-3b47-48eb-8723-edc0ce62bd35",
   "metadata": {},
   "source": [
    "# Zad2 i Zad3"
   ]
  },
  {
   "cell_type": "markdown",
   "id": "afe08f91-cd85-4421-ad00-063d932f584c",
   "metadata": {},
   "source": [
    "# Sumowanie"
   ]
  },
  {
   "cell_type": "markdown",
   "id": "479cf351-f8d0-45ea-9084-4f9dc0923a2f",
   "metadata": {},
   "source": [
    "## Mapper"
   ]
  },
  {
   "cell_type": "code",
   "execution_count": null,
   "id": "27eb0141-d09d-48e7-bed4-7a27a27e394b",
   "metadata": {},
   "outputs": [],
   "source": [
    "#!/usr/bin/python3\n",
    "\"\"\"mapper.py\"\"\"\n",
    "\n",
    "import sys\n",
    "\n",
    "for line in sys.stdin:\n",
    "    line = line.strip()\n",
    "    id, country, cases = line.split(',')\n",
    "    if id and cases:\n",
    "       print('%s\\t%s' % (country, cases))"
   ]
  },
  {
   "cell_type": "markdown",
   "id": "b831f58b-17cf-4542-b82c-b8b1c24b6955",
   "metadata": {},
   "source": [
    "## Reducer"
   ]
  },
  {
   "cell_type": "code",
   "execution_count": null,
   "id": "dce605cd-d3bc-424e-8840-b2f446017c89",
   "metadata": {},
   "outputs": [],
   "source": [
    "#!/usr/bin/python3\n",
    "\"\"\"reducer.py\"\"\"\n",
    "\n",
    "from operator import itemgetter\n",
    "import sys\n",
    "\n",
    "current_country= None\n",
    "current_cases = 0\n",
    "country = None\n",
    "for line in sys.stdin:\n",
    "    line = line.strip()\n",
    "    country, cases = line.split('\\t')\n",
    "    try:\n",
    "        cases = float(cases)\n",
    "    except ValueError:\n",
    "        continue\n",
    "    if current_country == country:\n",
    "        current_cases += cases\n",
    "    else:\n",
    "        if current_country:\n",
    "            print('%s %s' % (current_country, current_cases))\n",
    "        current_cases = cases\n",
    "        current_country = country\n",
    "print('%s %s' % (current_country, current_cases))"
   ]
  },
  {
   "cell_type": "markdown",
   "id": "4da8055f-b7f5-470e-adb5-d6eb18c7f5f2",
   "metadata": {},
   "source": [
    "## Combiner"
   ]
  },
  {
   "cell_type": "code",
   "execution_count": null,
   "id": "5eddbbab-094e-4c8c-972d-4c6ecc747c4e",
   "metadata": {},
   "outputs": [],
   "source": [
    "#!/usr/bin/python3\n",
    "\"\"\"reducer.py\"\"\"\n",
    "\n",
    "from operator import itemgetter\n",
    "import sys\n",
    "\n",
    "current_country= None\n",
    "current_cases = 0\n",
    "country = None\n",
    "for line in sys.stdin:\n",
    "    line = line.strip()\n",
    "    country, cases = line.split('\\t')\n",
    "    try:\n",
    "        cases = float(cases)\n",
    "    except ValueError:\n",
    "        continue\n",
    "    if current_country == country:\n",
    "        current_cases += cases\n",
    "    else:\n",
    "        if current_country:\n",
    "            print('%s\\t%s' % (current_country, current_cases))\n",
    "        current_cases = cases\n",
    "        current_country = country\n",
    "print('%s\\t%s' % (current_country, current_cases))"
   ]
  },
  {
   "cell_type": "markdown",
   "id": "3958a5af-71c0-4a71-b57c-bfcdf506d417",
   "metadata": {},
   "source": [
    "## Zmieniony Reducer"
   ]
  },
  {
   "cell_type": "code",
   "execution_count": null,
   "id": "1342bc0b-3f2c-4065-bb90-8e7e80ce5ece",
   "metadata": {},
   "outputs": [],
   "source": [
    "#!/usr/bin/python3\n",
    "\"\"\"reducer.py\"\"\"\n",
    "\n",
    "from operator import itemgetter\n",
    "import sys\n",
    "\n",
    "current_country= None\n",
    "current_cases = 0\n",
    "country = None\n",
    "for line in sys.stdin:\n",
    "    line = line.strip()\n",
    "    country, cases = line.split('\\t')\n",
    "    try:\n",
    "        cases = float(cases)\n",
    "    except ValueError:\n",
    "        continue\n",
    "    if current_country == country:\n",
    "        current_cases += cases\n",
    "    else:\n",
    "        if current_country:\n",
    "            print('%s %s' % (current_country, current_cases))\n",
    "        current_cases = cases\n",
    "        current_country = country\n",
    "print('%s %s' % (current_country, current_cases))"
   ]
  },
  {
   "cell_type": "markdown",
   "id": "6daf47f9-c1e7-4d7c-93a2-ca64aa98acff",
   "metadata": {},
   "source": [
    "# Średnia"
   ]
  },
  {
   "cell_type": "markdown",
   "id": "80ff53c7-39b7-49cc-89de-7fd6a5f2aa2e",
   "metadata": {},
   "source": [
    "## Mapper"
   ]
  },
  {
   "cell_type": "code",
   "execution_count": null,
   "id": "b4789278-6878-49c8-bfc0-1a97ba5ae91f",
   "metadata": {},
   "outputs": [],
   "source": [
    "#!/usr/bin/python3\n",
    "\"\"\"mapper.py\"\"\"\n",
    "\n",
    "import sys\n",
    "\n",
    "for line in sys.stdin:\n",
    "    line = line.strip()\n",
    "    id, country, cases = line.split(',')\n",
    "    if id and cases:\n",
    "        print('%s\\t%s' % (country, cases))"
   ]
  },
  {
   "cell_type": "markdown",
   "id": "ee167277-5a88-4772-91da-02e3cb3f315f",
   "metadata": {},
   "source": [
    "## Reducer"
   ]
  },
  {
   "cell_type": "code",
   "execution_count": null,
   "id": "07cbff55-dc99-4de5-b96d-d2e7658b2bcd",
   "metadata": {},
   "outputs": [],
   "source": [
    "#!/usr/bin/python3\n",
    "\"\"\"reducer.py\"\"\"\n",
    "\n",
    "from operator import itemgetter\n",
    "import sys\n",
    "import statistics\n",
    "\n",
    "\n",
    "current_country = None\n",
    "case_list = []\n",
    "country = None\n",
    "for line in sys.stdin:\n",
    "    line = line.strip()\n",
    "    country, cases = line.split('\\t')\n",
    "    try:\n",
    "        cases = float(cases)\n",
    "    except ValueError:\n",
    "        continue\n",
    "    if current_country == country:\n",
    "        case_list.append(cases)\n",
    "    else:\n",
    "        if current_country:\n",
    "            print('%s %s' % (current_country, round(statistics.mean(case_list), 2)))\n",
    "        case_list = [cases]\n",
    "        current_country = country\n",
    "print('%s %s' % (current_country, round(statistics.mean(case_list), 2)))"
   ]
  },
  {
   "cell_type": "markdown",
   "id": "e60724c6-de6c-461e-b2b3-d1c8a0794dc0",
   "metadata": {},
   "source": [
    "## Combiner"
   ]
  },
  {
   "cell_type": "code",
   "execution_count": null,
   "id": "98dcfb77-37d4-4695-944a-114a6ae7e677",
   "metadata": {},
   "outputs": [],
   "source": [
    "#!/usr/bin/python3\n",
    "\"\"\"reducer.py\"\"\"\n",
    "\n",
    "from operator import itemgetter\n",
    "import sys\n",
    "import statistics\n",
    "\n",
    "\n",
    "current_country = None\n",
    "case_list = []\n",
    "country = None\n",
    "for line in sys.stdin:\n",
    "    line = line.strip()\n",
    "    country, cases = line.split('\\t')\n",
    "    try:\n",
    "        cases = float(cases)\n",
    "    except ValueError:\n",
    "        continue\n",
    "    if current_country == country:\n",
    "        case_list.append(cases)\n",
    "    else:\n",
    "        if current_country:\n",
    "            print('%s\\t%s' % (current_country, case_list))\n",
    "        case_list = [cases]\n",
    "        current_country = country\n",
    "print('%s\\t%s' % (current_country, case_list))"
   ]
  },
  {
   "cell_type": "markdown",
   "id": "f12fd085-03ed-4d19-9ac5-fb9639c948f8",
   "metadata": {},
   "source": [
    "## Zmieniony Reducer"
   ]
  },
  {
   "cell_type": "code",
   "execution_count": null,
   "id": "a49032f7-607b-4015-b3f4-988e533ccb9b",
   "metadata": {},
   "outputs": [],
   "source": [
    "#!/usr/bin/python3\n",
    "\"\"\"reducer.py\"\"\"\n",
    "\n",
    "from operator import itemgetter\n",
    "import sys\n",
    "import statistics\n",
    "import ast\n",
    "\n",
    "current_country = None\n",
    "case_list = []\n",
    "country = None\n",
    "for line in sys.stdin:\n",
    "    line = line.strip()\n",
    "    country, cases = line.split('\\t')\n",
    "    try:\n",
    "        cases = ast.literal_eval(cases)\n",
    "    except ValueError:\n",
    "        continue\n",
    "    if current_country == country:\n",
    "        case_list += cases\n",
    "    else:\n",
    "        if current_country:\n",
    "            print('%s %s' % (current_country, round(statistics.mean(case_list), 2)))\n",
    "        case_list = cases\n",
    "        current_country = country\n",
    "print('%s %s' % (current_country, round(statistics.mean(case_list), 2)))"
   ]
  },
  {
   "cell_type": "markdown",
   "id": "ddea81ee-50ee-43a6-9ced-d4b4edb914ba",
   "metadata": {},
   "source": [
    "# Minimum"
   ]
  },
  {
   "cell_type": "markdown",
   "id": "2b6ac932-5666-45d5-9a5e-1fa672723f3d",
   "metadata": {},
   "source": [
    "## Mapper"
   ]
  },
  {
   "cell_type": "code",
   "execution_count": null,
   "id": "c365e40c-3e40-4ebf-bc17-36e309c6a01b",
   "metadata": {},
   "outputs": [],
   "source": [
    "#!/usr/bin/python3\n",
    "\"\"\"mapper.py\"\"\"\n",
    "\n",
    "import sys\n",
    "\n",
    "for line in sys.stdin:\n",
    "    line = line.strip()\n",
    "    id, country, cases = line.split(',')\n",
    "    if id and cases:\n",
    "        print('%s\\t%s' % (country, cases))"
   ]
  },
  {
   "cell_type": "markdown",
   "id": "c1695ce9-7a8a-4eac-8be9-944b6378a4ef",
   "metadata": {},
   "source": [
    "## Reducer"
   ]
  },
  {
   "cell_type": "code",
   "execution_count": null,
   "id": "552b3ac6-58ee-4813-a269-b6c24db54936",
   "metadata": {},
   "outputs": [],
   "source": [
    "#!/usr/bin/python3\n",
    "\"\"\"reducer.py\"\"\"\n",
    "\n",
    "from operator import itemgetter\n",
    "import sys\n",
    "\n",
    "\n",
    "current_country = None\n",
    "case_list = []\n",
    "country = None\n",
    "for line in sys.stdin:\n",
    "    line = line.strip()\n",
    "    country, cases = line.split('\\t')\n",
    "    try:\n",
    "        cases = float(cases)\n",
    "    except ValueError:\n",
    "        continue\n",
    "    if current_country == country:\n",
    "        case_list.append(cases)\n",
    "    else:\n",
    "        if current_country:\n",
    "            print('%s %s' % (current_country, min(case_list)))\n",
    "        case_list = [cases]\n",
    "        current_country = country\n",
    "print('%s %s' % (current_country, min(case_list)))"
   ]
  },
  {
   "cell_type": "markdown",
   "id": "06b5ac18-2edc-4fed-8f1a-c255e5fa410f",
   "metadata": {},
   "source": [
    "## Combiner"
   ]
  },
  {
   "cell_type": "code",
   "execution_count": null,
   "id": "a1b3f5ea-e4c8-4373-b879-b75a7549ac87",
   "metadata": {},
   "outputs": [],
   "source": [
    "#!/usr/bin/python3\n",
    "\"\"\"reducer.py\"\"\"\n",
    "\n",
    "from operator import itemgetter\n",
    "import sys\n",
    "\n",
    "\n",
    "current_country = None\n",
    "case_list = []\n",
    "country = None\n",
    "for line in sys.stdin:\n",
    "    line = line.strip()\n",
    "    print(line)\n",
    "    country, cases = line.split('\\t')\n",
    "    try:\n",
    "        cases = float(cases)\n",
    "    except ValueError:\n",
    "        continue\n",
    "    if current_country == country:\n",
    "        case_list.append(cases)\n",
    "    else:\n",
    "        if current_country:\n",
    "            print('%s\\t%s' % (current_country, min(case_list)))\n",
    "        case_list = [cases]\n",
    "        current_country = country\n",
    "print('%s\\t%s' % (current_country, min(case_list)))"
   ]
  },
  {
   "cell_type": "markdown",
   "id": "603df700-2cf8-492a-8c5c-f6e6626a4643",
   "metadata": {},
   "source": [
    "## Zmieniony Reducer"
   ]
  },
  {
   "cell_type": "code",
   "execution_count": null,
   "id": "d5a43826-d6ff-490b-a328-1f7d405d6a8d",
   "metadata": {},
   "outputs": [],
   "source": [
    "#!/usr/bin/python3\n",
    "\"\"\"reducer.py\"\"\"\n",
    "\n",
    "from operator import itemgetter\n",
    "import sys\n",
    "\n",
    "\n",
    "current_country = None\n",
    "case_list = []\n",
    "country = None\n",
    "for line in sys.stdin:\n",
    "    line = line.strip()\n",
    "    country, cases = line.split('\\t')\n",
    "    try:\n",
    "        cases = float(cases)\n",
    "    except ValueError:\n",
    "        continue\n",
    "    if current_country == country:\n",
    "        case_list.append(cases)\n",
    "    else:\n",
    "        if current_country:\n",
    "            print('%s %s' % (current_country, min(case_list)))\n",
    "        case_list = [cases]\n",
    "        current_country = country\n",
    "print('%s %s' % (current_country, min(case_list)))"
   ]
  },
  {
   "cell_type": "markdown",
   "id": "a0a2fddc-87ed-40dd-bcbd-da00ae630697",
   "metadata": {},
   "source": [
    "# Mediana"
   ]
  },
  {
   "cell_type": "markdown",
   "id": "c6ab73d4-f6c4-42e4-b0f3-1fb266df6567",
   "metadata": {},
   "source": [
    "## Mapper"
   ]
  },
  {
   "cell_type": "code",
   "execution_count": null,
   "id": "18ac0386-443d-47f8-9b04-78469a04e740",
   "metadata": {},
   "outputs": [],
   "source": [
    "#!/usr/bin/python3\n",
    "\"\"\"mapper.py\"\"\"\n",
    "\n",
    "import sys\n",
    "\n",
    "for line in sys.stdin:\n",
    "    line = line.strip()\n",
    "    id, country, cases = line.split(',')\n",
    "    if id and cases:\n",
    "        print('%s\\t%s' % (country, cases))"
   ]
  },
  {
   "cell_type": "markdown",
   "id": "a8ae3924-5c1c-402b-b8a9-e3aca3dff5a5",
   "metadata": {},
   "source": [
    "## Reducer"
   ]
  },
  {
   "cell_type": "code",
   "execution_count": null,
   "id": "2b5fdc9c-4b66-450b-8314-4838e460b274",
   "metadata": {},
   "outputs": [],
   "source": [
    "#!/usr/bin/python3\n",
    "\"\"\"reducer.py\"\"\"\n",
    "\n",
    "from operator import itemgetter\n",
    "import sys\n",
    "import statistics\n",
    "\n",
    "current_country = None\n",
    "case_list = []\n",
    "country = None\n",
    "for line in sys.stdin:\n",
    "    line = line.strip()\n",
    "    country, cases = line.split('\\t')\n",
    "    try:\n",
    "        cases = float(cases)\n",
    "    except ValueError:\n",
    "        continue\n",
    "    if current_country == country:\n",
    "        case_list.append(cases)\n",
    "    else:\n",
    "        if current_country:\n",
    "            print('%s %s' % (current_country, statistics.median(case_list)))\n",
    "        case_list = [cases]\n",
    "        current_country = country\n",
    "print('%s %s' % (current_country, statistics.median(case_list)))"
   ]
  },
  {
   "cell_type": "markdown",
   "id": "d6348690-0fe4-4a98-834d-5fd40119a02b",
   "metadata": {},
   "source": [
    "## Combiner"
   ]
  },
  {
   "cell_type": "code",
   "execution_count": null,
   "id": "5ba2ad80-8bed-407a-926f-679842198217",
   "metadata": {},
   "outputs": [],
   "source": [
    "#!/usr/bin/python3\n",
    "\"\"\"reducer.py\"\"\"\n",
    "\n",
    "from operator import itemgetter\n",
    "import sys\n",
    "import statistics\n",
    "\n",
    "current_country = None\n",
    "case_list = []\n",
    "country = None\n",
    "for line in sys.stdin:\n",
    "    line = line.strip()\n",
    "    country, cases = line.split('\\t')\n",
    "    try:\n",
    "        cases = float(cases)\n",
    "    except ValueError:\n",
    "        continue\n",
    "    if current_country == country:\n",
    "        case_list.append(cases)\n",
    "    else:\n",
    "        if current_country:\n",
    "            print('%s\\t%s' % (current_country, case_list))\n",
    "        case_list = [cases]\n",
    "        current_country = country\n",
    "print('%s\\t%s' % (current_country, case_list))"
   ]
  },
  {
   "cell_type": "markdown",
   "id": "decd2fcf-ede3-4940-9177-fd683ab235ea",
   "metadata": {},
   "source": [
    "## Zmieiony Reducer"
   ]
  },
  {
   "cell_type": "code",
   "execution_count": null,
   "id": "9bfe1a27-3689-4387-9656-20a436fd4cc0",
   "metadata": {},
   "outputs": [],
   "source": [
    "#!/usr/bin/python3\n",
    "\"\"\"reducer.py\"\"\"\n",
    "\n",
    "from operator import itemgetter\n",
    "import sys\n",
    "import statistics\n",
    "import ast\n",
    "\n",
    "current_country = None\n",
    "case_list = []\n",
    "country = None\n",
    "for line in sys.stdin:\n",
    "    line = line.strip()\n",
    "    country, cases = line.split('\\t')\n",
    "    try:\n",
    "        cases = ast.literal_eval(cases)\n",
    "    except ValueError:\n",
    "        continue\n",
    "    if current_country == country:\n",
    "        case_list += cases\n",
    "    else:\n",
    "        if current_country:\n",
    "            print('%s %s' % (current_country, statistics.median(case_list)))\n",
    "        case_list = cases\n",
    "        current_country = country\n",
    "print('%s %s' % (current_country, statistics.median(case_list)))"
   ]
  },
  {
   "cell_type": "markdown",
   "id": "fef9713d-6d99-452c-aeec-c384b065967d",
   "metadata": {},
   "source": [
    "# Zad4"
   ]
  },
  {
   "cell_type": "code",
   "execution_count": 3,
   "id": "d0d98f91-e151-47cf-b781-bd8492cdce91",
   "metadata": {},
   "outputs": [],
   "source": [
    "import pandas as pd\n",
    "import functools"
   ]
  },
  {
   "cell_type": "code",
   "execution_count": 7,
   "id": "00231c5a-964d-4bcb-824b-5aea484acbf1",
   "metadata": {
    "scrolled": true
   },
   "outputs": [
    {
     "name": "stdout",
     "output_type": "stream",
     "text": [
      "Argentina\n",
      "Argentina\n"
     ]
    }
   ],
   "source": [
    "def filterFunc(x):\n",
    "    if x == 'Argentina':\n",
    "        return True\n",
    "    else:\n",
    "        return False\n",
    "\n",
    "\n",
    "df = pd.read_csv('dane.csv')\n",
    "\n",
    "filtered_data = filter(filterFunc, df['country_name'])\n",
    "for x in filtered_data:\n",
    "    print(x)"
   ]
  },
  {
   "cell_type": "code",
   "execution_count": 8,
   "id": "1825e94e-70dd-484c-9bfc-ffddf65fb43d",
   "metadata": {},
   "outputs": [
    {
     "name": "stdout",
     "output_type": "stream",
     "text": [
      "[['A', 'r', 'g', 'e', 'n', 't', 'i', 'n', 'a'], ['A', 'r', 'g', 'e', 'n', 't', 'i', 'n', 'a'], ['B', 'r', 'a', 'z', 'i', 'l']]\n"
     ]
    }
   ],
   "source": [
    "mapped_data = map(list, df['country_name'])\n",
    "print(list(mapped_data))"
   ]
  },
  {
   "cell_type": "code",
   "execution_count": 9,
   "id": "1f1ec158-9767-460f-be08-6c91d2e25680",
   "metadata": {},
   "outputs": [
    {
     "name": "stdout",
     "output_type": "stream",
     "text": [
      "[4.0, 4.0, 4.0]\n"
     ]
    }
   ],
   "source": [
    "mapped_data = map(lambda x: x / (x*0.25), df['new_confirmed'])\n",
    "print(list(mapped_data))"
   ]
  },
  {
   "cell_type": "code",
   "execution_count": 10,
   "id": "ab8920ac-09bb-4506-afff-0c40fba720f2",
   "metadata": {},
   "outputs": [
    {
     "name": "stdout",
     "output_type": "stream",
     "text": [
      "41957\n"
     ]
    }
   ],
   "source": [
    "reduced_data = functools.reduce(lambda a, b: a+b, df['new_confirmed'])\n",
    "print(reduced_data)"
   ]
  }
 ],
 "metadata": {
  "kernelspec": {
   "display_name": "Python 3 (ipykernel)",
   "language": "python",
   "name": "python3"
  },
  "language_info": {
   "codemirror_mode": {
    "name": "ipython",
    "version": 3
   },
   "file_extension": ".py",
   "mimetype": "text/x-python",
   "name": "python",
   "nbconvert_exporter": "python",
   "pygments_lexer": "ipython3",
   "version": "3.12.0"
  }
 },
 "nbformat": 4,
 "nbformat_minor": 5
}
