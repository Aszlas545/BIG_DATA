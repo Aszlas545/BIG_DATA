{
 "cells": [
  {
   "cell_type": "markdown",
   "id": "5e64ab47-98da-4189-9722-12d976b3ba8c",
   "metadata": {},
   "source": [
    "# Część 2 - Podstawy Spark"
   ]
  },
  {
   "cell_type": "code",
   "execution_count": 1,
   "id": "d10a3266-58ea-4699-a274-6629adc03a83",
   "metadata": {},
   "outputs": [],
   "source": [
    "from pyspark.sql import SparkSession"
   ]
  },
  {
   "cell_type": "code",
   "execution_count": 2,
   "id": "61d37dfc-f177-48fd-b2d5-8295c3d3e455",
   "metadata": {},
   "outputs": [
    {
     "name": "stderr",
     "output_type": "stream",
     "text": [
      "24/06/03 17:12:00 WARN Utils: Your hostname, AndrzejSzlaski resolves to a loopback address: 127.0.1.1; using 172.21.92.194 instead (on interface eth0)\n",
      "24/06/03 17:12:00 WARN Utils: Set SPARK_LOCAL_IP if you need to bind to another address\n",
      "Setting default log level to \"WARN\".\n",
      "To adjust logging level use sc.setLogLevel(newLevel). For SparkR, use setLogLevel(newLevel).\n",
      "24/06/03 17:12:02 WARN NativeCodeLoader: Unable to load native-hadoop library for your platform... using builtin-java classes where applicable\n"
     ]
    }
   ],
   "source": [
    "spark = SparkSession.builder.appName(\"talion\").getOrCreate()"
   ]
  },
  {
   "cell_type": "code",
   "execution_count": 3,
   "id": "36715598-e3c9-4993-833a-b23f7f1ea1e4",
   "metadata": {},
   "outputs": [
    {
     "name": "stdout",
     "output_type": "stream",
     "text": [
      "Spark version: 3.5.1\n"
     ]
    }
   ],
   "source": [
    "print(\"Spark version:\", spark.version)"
   ]
  },
  {
   "cell_type": "code",
   "execution_count": 4,
   "id": "475cfc16-c37f-4913-a361-75a520ae9104",
   "metadata": {},
   "outputs": [
    {
     "name": "stdout",
     "output_type": "stream",
     "text": [
      "RDD collect: [1, 2, 3, 4, 5]\n"
     ]
    }
   ],
   "source": [
    "data = [1, 2, 3, 4, 5]\n",
    "\n",
    "rdd = spark.sparkContext.parallelize(data)\n",
    "\n",
    "print(\"RDD collect:\", rdd.collect())"
   ]
  },
  {
   "cell_type": "code",
   "execution_count": 5,
   "id": "f437058f-8191-44cc-a4fc-201324ccf277",
   "metadata": {},
   "outputs": [
    {
     "name": "stderr",
     "output_type": "stream",
     "text": [
      "                                                                                \r"
     ]
    },
    {
     "name": "stdout",
     "output_type": "stream",
     "text": [
      "+--------------------+---------------+\n",
      "|        country_name|total_confirmed|\n",
      "+--------------------+---------------+\n",
      "|             Andorra|             98|\n",
      "|United Arab Emirates|           1683|\n",
      "+--------------------+---------------+\n",
      "\n"
     ]
    }
   ],
   "source": [
    "df = spark.createDataFrame([(\"Andorra\", 98), (\"United Arab Emirates\", 1683)], [\"country_name\", \"total_confirmed\"])\n",
    "\n",
    "df.show()"
   ]
  },
  {
   "cell_type": "markdown",
   "id": "e331bbf8-f008-4942-98d6-553ee46bcaea",
   "metadata": {},
   "source": [
    "## 2.1 Wczytaj dane ze swojego pliku CSV dotyczącego danych COVID-19 (pamiętaj o nagłówku dla kolumn)."
   ]
  },
  {
   "cell_type": "code",
   "execution_count": 6,
   "id": "60e73186-6e8f-4d25-a557-6577f2a15bb1",
   "metadata": {},
   "outputs": [
    {
     "name": "stdout",
     "output_type": "stream",
     "text": [
      "+------------+------------+----------+--------------------+-------------+-----------------+----------+-------------------+------------+-----------------------------+----------------------+---------------+----------+\n",
      "|location_key|country_name|      date|cumulative_confirmed|new_confirmed|cumulative_tested|new_tested|cumulative_deceased|new_deceased|cumulative_persons_vaccinated|new_persons_vaccinated|2022 Population|Area (km²)|\n",
      "+------------+------------+----------+--------------------+-------------+-----------------+----------+-------------------+------------+-----------------------------+----------------------+---------------+----------+\n",
      "|          AD|     Andorra|2020-01-01|                   0|            0|             NULL|      NULL|                  0|           0|                         NULL|                  NULL|        79824.0|     468.0|\n",
      "+------------+------------+----------+--------------------+-------------+-----------------+----------+-------------------+------------+-----------------------------+----------------------+---------------+----------+\n",
      "only showing top 1 row\n",
      "\n"
     ]
    }
   ],
   "source": [
    "path = 'spark/covid_ms_gold.csv'\n",
    "df = spark.read.option(\"delimiter\", \",\").option(\"header\", True).csv(path)\n",
    "df = df.select([c for c in df.columns if c in [\"location_key\", \"country_name\", \"date\", \"cumulative_confirmed\", \"new_confirmed\", \"cumulative_tested\", \"new_tested\", \"cumulative_deceased\", \"new_deceased\", \"2022 Population\", \"cumulative_persons_vaccinated\", \"new_persons_vaccinated\", \"Area (km²)\"]])\n",
    "df.show(1)"
   ]
  },
  {
   "cell_type": "markdown",
   "id": "7e60638e-a52b-465a-bf62-370046d231cd",
   "metadata": {},
   "source": [
    "## 2.2 Utwórz DataFrame. Pamiętaj o utworzeniu własnego schematu z wybranymi kolumnami."
   ]
  },
  {
   "cell_type": "code",
   "execution_count": 7,
   "id": "5f09be11-6688-4bd6-89a1-650c54c829fe",
   "metadata": {},
   "outputs": [
    {
     "name": "stdout",
     "output_type": "stream",
     "text": [
      "root\n",
      " |-- location_key: string (nullable = true)\n",
      " |-- country_name: string (nullable = true)\n",
      " |-- date: string (nullable = true)\n",
      " |-- cumulative_confirmed: string (nullable = true)\n",
      " |-- new_confirmed: string (nullable = true)\n",
      " |-- cumulative_tested: string (nullable = true)\n",
      " |-- new_tested: string (nullable = true)\n",
      " |-- cumulative_deceased: string (nullable = true)\n",
      " |-- new_deceased: string (nullable = true)\n",
      " |-- cumulative_persons_vaccinated: string (nullable = true)\n",
      " |-- new_persons_vaccinated: string (nullable = true)\n",
      " |-- 2022 Population: string (nullable = true)\n",
      " |-- Area (km²): string (nullable = true)\n",
      "\n"
     ]
    }
   ],
   "source": [
    "df.printSchema()"
   ]
  },
  {
   "cell_type": "code",
   "execution_count": 8,
   "id": "5bf98189-2abd-4c6b-8a38-8254340c06af",
   "metadata": {},
   "outputs": [],
   "source": [
    "from pyspark.sql.types import StructType, StructField, IntegerType, StringType, DoubleType, DateType\n",
    "from pyspark.sql.functions import col"
   ]
  },
  {
   "cell_type": "code",
   "execution_count": 9,
   "id": "f4316b8b-26bd-49c5-a36d-dcf92eb3d51b",
   "metadata": {},
   "outputs": [],
   "source": [
    "df = df.withColumn(\"location_key\", col(\"location_key\").cast(StringType()))\n",
    "df = df.withColumn(\"country_name\", col(\"country_name\").cast(StringType()))\n",
    "df = df.withColumn(\"date\", col(\"date\").cast(DateType()))\n",
    "df = df.withColumn(\"cumulative_confirmed\", col(\"cumulative_confirmed\").cast(IntegerType()))\n",
    "df = df.withColumn(\"new_confirmed\", col(\"new_tested\").cast(IntegerType()))\n",
    "df = df.withColumn(\"cumulative_tested\", col(\"cumulative_tested\").cast(IntegerType()))\n",
    "df = df.withColumn(\"new_tested\", col(\"new_tested\").cast(IntegerType()))\n",
    "df = df.withColumn(\"cumulative_deceased\", col(\"cumulative_deceased\").cast(IntegerType()))\n",
    "df = df.withColumn(\"new_deceased\", col(\"new_deceased\").cast(IntegerType()))\n",
    "df = df.withColumn(\"cumulative_persons_vaccinated\", col(\"cumulative_persons_vaccinated\").cast(IntegerType()))\n",
    "df = df.withColumn(\"new_persons_vaccinated\", col(\"new_persons_vaccinated\").cast(IntegerType()))\n",
    "df = df.withColumn(\"2022 Population\", col(\"2022 Population\").cast(IntegerType()))\n",
    "df = df.withColumn(\"Area (km²)\", col(\"Area (km²)\").cast(DoubleType()))"
   ]
  },
  {
   "cell_type": "code",
   "execution_count": 10,
   "id": "55b9f747-9f6a-4c1d-84c5-503b5aef75cb",
   "metadata": {},
   "outputs": [
    {
     "name": "stdout",
     "output_type": "stream",
     "text": [
      "root\n",
      " |-- location_key: string (nullable = true)\n",
      " |-- country_name: string (nullable = true)\n",
      " |-- date: date (nullable = true)\n",
      " |-- cumulative_confirmed: integer (nullable = true)\n",
      " |-- new_confirmed: integer (nullable = true)\n",
      " |-- cumulative_tested: integer (nullable = true)\n",
      " |-- new_tested: integer (nullable = true)\n",
      " |-- cumulative_deceased: integer (nullable = true)\n",
      " |-- new_deceased: integer (nullable = true)\n",
      " |-- cumulative_persons_vaccinated: integer (nullable = true)\n",
      " |-- new_persons_vaccinated: integer (nullable = true)\n",
      " |-- 2022 Population: integer (nullable = true)\n",
      " |-- Area (km²): double (nullable = true)\n",
      "\n"
     ]
    }
   ],
   "source": [
    "df.printSchema()"
   ]
  },
  {
   "cell_type": "markdown",
   "id": "d421c617-3ac5-431a-ae23-adce3c46ea0b",
   "metadata": {},
   "source": [
    "## 2.3 Wyświetl co najmniej 5 kolumn i wyjaśnij ich znaczenie dla analizy przypadków COVID-19."
   ]
  },
  {
   "cell_type": "code",
   "execution_count": 11,
   "id": "ea78c4ae-8461-4d4f-940f-c8e137f2992e",
   "metadata": {},
   "outputs": [
    {
     "name": "stdout",
     "output_type": "stream",
     "text": [
      "+------------+------------+----------+-------------+----------+------------+\n",
      "|location_key|country_name|      date|new_confirmed|new_tested|new_deceased|\n",
      "+------------+------------+----------+-------------+----------+------------+\n",
      "|          AD|     Andorra|2020-01-01|         NULL|      NULL|           0|\n",
      "|          AD|     Andorra|2020-01-02|         NULL|      NULL|           0|\n",
      "|          AD|     Andorra|2020-01-03|         NULL|      NULL|           0|\n",
      "|          AD|     Andorra|2020-01-04|         NULL|      NULL|           0|\n",
      "|          AD|     Andorra|2020-01-05|         NULL|      NULL|           0|\n",
      "|          AD|     Andorra|2020-01-06|         NULL|      NULL|           0|\n",
      "|          AD|     Andorra|2020-01-07|         NULL|      NULL|           0|\n",
      "|          AD|     Andorra|2020-01-08|         NULL|      NULL|           0|\n",
      "|          AD|     Andorra|2020-01-09|         NULL|      NULL|           0|\n",
      "|          AD|     Andorra|2020-01-10|         NULL|      NULL|           0|\n",
      "+------------+------------+----------+-------------+----------+------------+\n",
      "only showing top 10 rows\n",
      "\n"
     ]
    }
   ],
   "source": [
    "df.select('location_key', 'country_name', 'date', 'new_confirmed', 'new_tested', 'new_deceased').show(10)"
   ]
  },
  {
   "cell_type": "markdown",
   "id": "8aae8a61-f296-451f-814d-5fd5aaa00218",
   "metadata": {},
   "source": [
    "## 2.4 Dodaj kolumnę, która będzie zbierała dane, które uznasz za stosowne i które są istotne z punktu widzenia analizy COVID-19 (np. wyliczenie gęstości zaludnienia na podstawie liczby ludności i powierzchni kraju)."
   ]
  },
  {
   "cell_type": "code",
   "execution_count": 12,
   "id": "9ab61e57-7406-4386-af63-d28524ee9835",
   "metadata": {},
   "outputs": [],
   "source": [
    "df = df.withColumn(\"population_density\", col(\"2022 Population\") / col(\"Area (km²)\"))"
   ]
  },
  {
   "cell_type": "code",
   "execution_count": 13,
   "id": "a4dda7ec-9e46-44be-aee5-f6ae061c1793",
   "metadata": {},
   "outputs": [
    {
     "name": "stderr",
     "output_type": "stream",
     "text": [
      "[Stage 7:====>                                                    (1 + 11) / 12]\r"
     ]
    },
    {
     "name": "stdout",
     "output_type": "stream",
     "text": [
      "+-------------------+------------------+\n",
      "|       country_name|population_density|\n",
      "+-------------------+------------------+\n",
      "|        Afghanistan| 63.05869248577956|\n",
      "|            Albania| 98.87021705857799|\n",
      "|            Algeria|18.853109972914773|\n",
      "|     American Samoa|222.47738693467338|\n",
      "|            Andorra|170.56410256410257|\n",
      "|             Angola|28.546552498596295|\n",
      "|           Anguilla|174.25274725274724|\n",
      "|         Antarctica|              NULL|\n",
      "|Antigua and Barbuda|212.13348416289594|\n",
      "|          Argentina|16.368262839879154|\n",
      "|            Armenia| 93.48313888982281|\n",
      "|              Aruba| 591.3611111111111|\n",
      "|          Australia|3.4031891996176817|\n",
      "|            Austria|106.58770015857687|\n",
      "|         Azerbaijan|119.60824480369514|\n",
      "|            Bahamas| 29.40428889048268|\n",
      "|            Bahrain|1924.4875816993465|\n",
      "|         Bangladesh|1160.0350477739378|\n",
      "|           Barbados| 654.9651162790698|\n",
      "|            Belarus|45.929450867052026|\n",
      "+-------------------+------------------+\n",
      "only showing top 20 rows\n",
      "\n"
     ]
    },
    {
     "name": "stderr",
     "output_type": "stream",
     "text": [
      "                                                                                \r"
     ]
    }
   ],
   "source": [
    "df.select('country_name', 'population_density').distinct().orderBy('country_name').show()"
   ]
  },
  {
   "cell_type": "markdown",
   "id": "27df2f4f-071b-423c-983e-73fad2cf263c",
   "metadata": {},
   "source": [
    "## 2.5 Połącz wybrane kolumny ze sobą w sposób niosący nowe informacje za pomocą funkcji concat . "
   ]
  },
  {
   "cell_type": "markdown",
   "id": "e3a1eeb7",
   "metadata": {},
   "source": [
    "Stworzona została kolumna id która jednoznacznie identyfikuje dany dzień dla danego kraju"
   ]
  },
  {
   "cell_type": "code",
   "execution_count": 14,
   "id": "61ca5021-1444-4718-a5a0-1cac8e8a4851",
   "metadata": {},
   "outputs": [
    {
     "name": "stdout",
     "output_type": "stream",
     "text": [
      "+------------+------------+----------+--------------------+-------------+-----------------+----------+-------------------+------------+-----------------------------+----------------------+---------------+----------+------------------+\n",
      "|location_key|country_name|      date|cumulative_confirmed|new_confirmed|cumulative_tested|new_tested|cumulative_deceased|new_deceased|cumulative_persons_vaccinated|new_persons_vaccinated|2022 Population|Area (km²)|population_density|\n",
      "+------------+------------+----------+--------------------+-------------+-----------------+----------+-------------------+------------+-----------------------------+----------------------+---------------+----------+------------------+\n",
      "|          AD|     Andorra|2020-01-01|                   0|         NULL|             NULL|      NULL|                  0|           0|                         NULL|                  NULL|          79824|     468.0|170.56410256410257|\n",
      "|          AD|     Andorra|2020-01-02|                   0|         NULL|             NULL|      NULL|                  0|           0|                         NULL|                  NULL|          79824|     468.0|170.56410256410257|\n",
      "|          AD|     Andorra|2020-01-03|                   0|         NULL|             NULL|      NULL|                  0|           0|                         NULL|                  NULL|          79824|     468.0|170.56410256410257|\n",
      "|          AD|     Andorra|2020-01-04|                   0|         NULL|             NULL|      NULL|                  0|           0|                         NULL|                  NULL|          79824|     468.0|170.56410256410257|\n",
      "|          AD|     Andorra|2020-01-05|                   0|         NULL|             NULL|      NULL|                  0|           0|                         NULL|                  NULL|          79824|     468.0|170.56410256410257|\n",
      "|          AD|     Andorra|2020-01-06|                   0|         NULL|             NULL|      NULL|                  0|           0|                         NULL|                  NULL|          79824|     468.0|170.56410256410257|\n",
      "|          AD|     Andorra|2020-01-07|                   0|         NULL|             NULL|      NULL|                  0|           0|                         NULL|                  NULL|          79824|     468.0|170.56410256410257|\n",
      "|          AD|     Andorra|2020-01-08|                   0|         NULL|             NULL|      NULL|                  0|           0|                         NULL|                  NULL|          79824|     468.0|170.56410256410257|\n",
      "|          AD|     Andorra|2020-01-09|                   0|         NULL|             NULL|      NULL|                  0|           0|                         NULL|                  NULL|          79824|     468.0|170.56410256410257|\n",
      "|          AD|     Andorra|2020-01-10|                   0|         NULL|             NULL|      NULL|                  0|           0|                         NULL|                  NULL|          79824|     468.0|170.56410256410257|\n",
      "|          AD|     Andorra|2020-01-11|                   0|         NULL|             NULL|      NULL|                  0|           0|                         NULL|                  NULL|          79824|     468.0|170.56410256410257|\n",
      "|          AD|     Andorra|2020-01-12|                   0|         NULL|             NULL|      NULL|                  0|           0|                         NULL|                  NULL|          79824|     468.0|170.56410256410257|\n",
      "|          AD|     Andorra|2020-01-13|                   0|         NULL|             NULL|      NULL|                  0|           0|                         NULL|                  NULL|          79824|     468.0|170.56410256410257|\n",
      "|          AD|     Andorra|2020-01-14|                   0|         NULL|             NULL|      NULL|                  0|           0|                         NULL|                  NULL|          79824|     468.0|170.56410256410257|\n",
      "|          AD|     Andorra|2020-01-15|                   0|         NULL|             NULL|      NULL|                  0|           0|                         NULL|                  NULL|          79824|     468.0|170.56410256410257|\n",
      "|          AD|     Andorra|2020-01-16|                   0|         NULL|             NULL|      NULL|                  0|           0|                         NULL|                  NULL|          79824|     468.0|170.56410256410257|\n",
      "|          AD|     Andorra|2020-01-17|                   0|         NULL|             NULL|      NULL|                  0|           0|                         NULL|                  NULL|          79824|     468.0|170.56410256410257|\n",
      "|          AD|     Andorra|2020-01-18|                   0|         NULL|             NULL|      NULL|                  0|           0|                         NULL|                  NULL|          79824|     468.0|170.56410256410257|\n",
      "|          AD|     Andorra|2020-01-19|                   0|         NULL|             NULL|      NULL|                  0|           0|                         NULL|                  NULL|          79824|     468.0|170.56410256410257|\n",
      "|          AD|     Andorra|2020-01-20|                   0|         NULL|             NULL|      NULL|                  0|           0|                         NULL|                  NULL|          79824|     468.0|170.56410256410257|\n",
      "+------------+------------+----------+--------------------+-------------+-----------------+----------+-------------------+------------+-----------------------------+----------------------+---------------+----------+------------------+\n",
      "only showing top 20 rows\n",
      "\n"
     ]
    }
   ],
   "source": [
    "df.show()"
   ]
  },
  {
   "cell_type": "code",
   "execution_count": 15,
   "id": "60a4fdfc-710d-453b-a6f3-2b24f68dc61b",
   "metadata": {},
   "outputs": [
    {
     "name": "stdout",
     "output_type": "stream",
     "text": [
      "+------------+------------+----------+--------------------+-------------+-----------------+----------+-------------------+------------+-----------------------------+----------------------+---------------+----------+------------------+-------------+\n",
      "|location_key|country_name|      date|cumulative_confirmed|new_confirmed|cumulative_tested|new_tested|cumulative_deceased|new_deceased|cumulative_persons_vaccinated|new_persons_vaccinated|2022 Population|Area (km²)|population_density|           id|\n",
      "+------------+------------+----------+--------------------+-------------+-----------------+----------+-------------------+------------+-----------------------------+----------------------+---------------+----------+------------------+-------------+\n",
      "|          AD|     Andorra|2020-01-01|                   0|         NULL|             NULL|      NULL|                  0|           0|                         NULL|                  NULL|          79824|     468.0|170.56410256410257|AD_2020-01-01|\n",
      "|          AD|     Andorra|2020-01-02|                   0|         NULL|             NULL|      NULL|                  0|           0|                         NULL|                  NULL|          79824|     468.0|170.56410256410257|AD_2020-01-02|\n",
      "|          AD|     Andorra|2020-01-03|                   0|         NULL|             NULL|      NULL|                  0|           0|                         NULL|                  NULL|          79824|     468.0|170.56410256410257|AD_2020-01-03|\n",
      "|          AD|     Andorra|2020-01-04|                   0|         NULL|             NULL|      NULL|                  0|           0|                         NULL|                  NULL|          79824|     468.0|170.56410256410257|AD_2020-01-04|\n",
      "|          AD|     Andorra|2020-01-05|                   0|         NULL|             NULL|      NULL|                  0|           0|                         NULL|                  NULL|          79824|     468.0|170.56410256410257|AD_2020-01-05|\n",
      "|          AD|     Andorra|2020-01-06|                   0|         NULL|             NULL|      NULL|                  0|           0|                         NULL|                  NULL|          79824|     468.0|170.56410256410257|AD_2020-01-06|\n",
      "|          AD|     Andorra|2020-01-07|                   0|         NULL|             NULL|      NULL|                  0|           0|                         NULL|                  NULL|          79824|     468.0|170.56410256410257|AD_2020-01-07|\n",
      "|          AD|     Andorra|2020-01-08|                   0|         NULL|             NULL|      NULL|                  0|           0|                         NULL|                  NULL|          79824|     468.0|170.56410256410257|AD_2020-01-08|\n",
      "|          AD|     Andorra|2020-01-09|                   0|         NULL|             NULL|      NULL|                  0|           0|                         NULL|                  NULL|          79824|     468.0|170.56410256410257|AD_2020-01-09|\n",
      "|          AD|     Andorra|2020-01-10|                   0|         NULL|             NULL|      NULL|                  0|           0|                         NULL|                  NULL|          79824|     468.0|170.56410256410257|AD_2020-01-10|\n",
      "|          AD|     Andorra|2020-01-11|                   0|         NULL|             NULL|      NULL|                  0|           0|                         NULL|                  NULL|          79824|     468.0|170.56410256410257|AD_2020-01-11|\n",
      "|          AD|     Andorra|2020-01-12|                   0|         NULL|             NULL|      NULL|                  0|           0|                         NULL|                  NULL|          79824|     468.0|170.56410256410257|AD_2020-01-12|\n",
      "|          AD|     Andorra|2020-01-13|                   0|         NULL|             NULL|      NULL|                  0|           0|                         NULL|                  NULL|          79824|     468.0|170.56410256410257|AD_2020-01-13|\n",
      "|          AD|     Andorra|2020-01-14|                   0|         NULL|             NULL|      NULL|                  0|           0|                         NULL|                  NULL|          79824|     468.0|170.56410256410257|AD_2020-01-14|\n",
      "|          AD|     Andorra|2020-01-15|                   0|         NULL|             NULL|      NULL|                  0|           0|                         NULL|                  NULL|          79824|     468.0|170.56410256410257|AD_2020-01-15|\n",
      "|          AD|     Andorra|2020-01-16|                   0|         NULL|             NULL|      NULL|                  0|           0|                         NULL|                  NULL|          79824|     468.0|170.56410256410257|AD_2020-01-16|\n",
      "|          AD|     Andorra|2020-01-17|                   0|         NULL|             NULL|      NULL|                  0|           0|                         NULL|                  NULL|          79824|     468.0|170.56410256410257|AD_2020-01-17|\n",
      "|          AD|     Andorra|2020-01-18|                   0|         NULL|             NULL|      NULL|                  0|           0|                         NULL|                  NULL|          79824|     468.0|170.56410256410257|AD_2020-01-18|\n",
      "|          AD|     Andorra|2020-01-19|                   0|         NULL|             NULL|      NULL|                  0|           0|                         NULL|                  NULL|          79824|     468.0|170.56410256410257|AD_2020-01-19|\n",
      "|          AD|     Andorra|2020-01-20|                   0|         NULL|             NULL|      NULL|                  0|           0|                         NULL|                  NULL|          79824|     468.0|170.56410256410257|AD_2020-01-20|\n",
      "+------------+------------+----------+--------------------+-------------+-----------------+----------+-------------------+------------+-----------------------------+----------------------+---------------+----------+------------------+-------------+\n",
      "only showing top 20 rows\n",
      "\n"
     ]
    }
   ],
   "source": [
    "from pyspark.sql.functions import concat, lit\n",
    "\n",
    "df = df.withColumn('id', concat(col('location_key'), lit('_'), col('date')))\n",
    "df.show()"
   ]
  },
  {
   "cell_type": "markdown",
   "id": "b9f95371-98ed-45b7-aa1b-05bc6ac4fc81",
   "metadata": {},
   "source": [
    "## 2.6 Wyfiltruj co najmniej 10 wybranych przez siebie, istotnych informacji (np. kraj z liczbą łóżek większą od 10000 czy dzień, w którym było najmniej zachorowań w danym kraju)."
   ]
  },
  {
   "cell_type": "markdown",
   "id": "618d4e85",
   "metadata": {},
   "source": [
    "Kraje które korygowały statystyke śmierci z użyciem ujemnych danych"
   ]
  },
  {
   "cell_type": "code",
   "execution_count": 16,
   "id": "d8b48b7c-cc93-4c8d-a5e4-7bb2d2dc3b81",
   "metadata": {},
   "outputs": [
    {
     "name": "stdout",
     "output_type": "stream",
     "text": [
      "+------------+\n",
      "|country_name|\n",
      "+------------+\n",
      "|     Uruguay|\n",
      "|     Mayotte|\n",
      "|    Botswana|\n",
      "|     Romania|\n",
      "|      Belize|\n",
      "|     Bahamas|\n",
      "|     Réunion|\n",
      "|Sierra Leone|\n",
      "|      France|\n",
      "|       Italy|\n",
      "|    Honduras|\n",
      "|      Taiwan|\n",
      "|       China|\n",
      "|  Bangladesh|\n",
      "|     Jamaica|\n",
      "|     Comoros|\n",
      "|   Sri Lanka|\n",
      "|   Guatemala|\n",
      "+------------+\n",
      "\n"
     ]
    }
   ],
   "source": [
    "df.filter(\"new_deceased < 0\").select('country_name').distinct().show()"
   ]
  },
  {
   "cell_type": "markdown",
   "id": "0919ec0b",
   "metadata": {},
   "source": [
    "Kraje z niskim zagęszczeniem ludności"
   ]
  },
  {
   "cell_type": "code",
   "execution_count": 17,
   "id": "52d72bba-4504-42a2-bf06-57c97bdd0c54",
   "metadata": {},
   "outputs": [
    {
     "name": "stdout",
     "output_type": "stream",
     "text": [
      "+--------------------+\n",
      "|        country_name|\n",
      "+--------------------+\n",
      "|             Iceland|\n",
      "|            Botswana|\n",
      "|          Mauritania|\n",
      "|Central African R...|\n",
      "|          Kazakhstan|\n",
      "|            Mongolia|\n",
      "|               Libya|\n",
      "|               Gabon|\n",
      "|             Namibia|\n",
      "|      Western Sahara|\n",
      "|           Australia|\n",
      "|              Canada|\n",
      "|            Suriname|\n",
      "|              Russia|\n",
      "|    Falkland Islands|\n",
      "|           Greenland|\n",
      "|              Guyana|\n",
      "|       French Guiana|\n",
      "|                Niue|\n",
      "+--------------------+\n",
      "\n"
     ]
    }
   ],
   "source": [
    "df.filter(\"population_density < 10\").select('country_name').distinct().show()"
   ]
  },
  {
   "cell_type": "markdown",
   "id": "43866fcf",
   "metadata": {},
   "source": [
    "Kraje z wysokim zagęszczeniem ludności"
   ]
  },
  {
   "cell_type": "code",
   "execution_count": 18,
   "id": "8ac412e5-a185-4e56-a4f9-b6cf4617e7b8",
   "metadata": {},
   "outputs": [
    {
     "name": "stdout",
     "output_type": "stream",
     "text": [
      "+------------+\n",
      "|country_name|\n",
      "+------------+\n",
      "|      Monaco|\n",
      "|       Macau|\n",
      "+------------+\n",
      "\n"
     ]
    }
   ],
   "source": [
    "df.filter(\"population_density > 10000\").select('country_name').distinct().show()"
   ]
  },
  {
   "cell_type": "markdown",
   "id": "190021db",
   "metadata": {},
   "source": [
    "Dane o pandemii dla Polski"
   ]
  },
  {
   "cell_type": "code",
   "execution_count": 19,
   "id": "b35415ff-5c98-469c-ba74-a130dab3afe3",
   "metadata": {},
   "outputs": [
    {
     "name": "stdout",
     "output_type": "stream",
     "text": [
      "+------------+------------+----------+--------------------+-------------+-----------------+----------+-------------------+------------+-----------------------------+----------------------+---------------+----------+------------------+-------------+\n",
      "|location_key|country_name|      date|cumulative_confirmed|new_confirmed|cumulative_tested|new_tested|cumulative_deceased|new_deceased|cumulative_persons_vaccinated|new_persons_vaccinated|2022 Population|Area (km²)|population_density|           id|\n",
      "+------------+------------+----------+--------------------+-------------+-----------------+----------+-------------------+------------+-----------------------------+----------------------+---------------+----------+------------------+-------------+\n",
      "|          PL|      Poland|2020-01-01|                   0|         NULL|             NULL|      NULL|                  0|           0|                         NULL|                  NULL|       39857145|  312679.0|127.46984927033795|PL_2020-01-01|\n",
      "|          PL|      Poland|2020-01-02|                   0|         NULL|             NULL|      NULL|                  0|           0|                         NULL|                  NULL|       39857145|  312679.0|127.46984927033795|PL_2020-01-02|\n",
      "|          PL|      Poland|2020-01-03|                   0|         NULL|             NULL|      NULL|                  0|           0|                         NULL|                  NULL|       39857145|  312679.0|127.46984927033795|PL_2020-01-03|\n",
      "|          PL|      Poland|2020-01-04|                   0|         NULL|             NULL|      NULL|                  0|           0|                         NULL|                  NULL|       39857145|  312679.0|127.46984927033795|PL_2020-01-04|\n",
      "|          PL|      Poland|2020-01-05|                   0|         NULL|             NULL|      NULL|                  0|           0|                         NULL|                  NULL|       39857145|  312679.0|127.46984927033795|PL_2020-01-05|\n",
      "|          PL|      Poland|2020-01-06|                   0|         NULL|             NULL|      NULL|                  0|           0|                         NULL|                  NULL|       39857145|  312679.0|127.46984927033795|PL_2020-01-06|\n",
      "|          PL|      Poland|2020-01-07|                   0|         NULL|             NULL|      NULL|                  0|           0|                         NULL|                  NULL|       39857145|  312679.0|127.46984927033795|PL_2020-01-07|\n",
      "|          PL|      Poland|2020-01-08|                   0|         NULL|             NULL|      NULL|                  0|           0|                         NULL|                  NULL|       39857145|  312679.0|127.46984927033795|PL_2020-01-08|\n",
      "|          PL|      Poland|2020-01-09|                   0|         NULL|             NULL|      NULL|                  0|           0|                         NULL|                  NULL|       39857145|  312679.0|127.46984927033795|PL_2020-01-09|\n",
      "|          PL|      Poland|2020-01-10|                   0|         NULL|             NULL|      NULL|                  0|           0|                         NULL|                  NULL|       39857145|  312679.0|127.46984927033795|PL_2020-01-10|\n",
      "|          PL|      Poland|2020-01-11|                   0|         NULL|             NULL|      NULL|                  0|           0|                         NULL|                  NULL|       39857145|  312679.0|127.46984927033795|PL_2020-01-11|\n",
      "|          PL|      Poland|2020-01-12|                   0|         NULL|             NULL|      NULL|                  0|           0|                         NULL|                  NULL|       39857145|  312679.0|127.46984927033795|PL_2020-01-12|\n",
      "|          PL|      Poland|2020-01-13|                   0|         NULL|             NULL|      NULL|                  0|           0|                         NULL|                  NULL|       39857145|  312679.0|127.46984927033795|PL_2020-01-13|\n",
      "|          PL|      Poland|2020-01-14|                   0|         NULL|             NULL|      NULL|                  0|           0|                         NULL|                  NULL|       39857145|  312679.0|127.46984927033795|PL_2020-01-14|\n",
      "|          PL|      Poland|2020-01-15|                   0|         NULL|             NULL|      NULL|                  0|           0|                         NULL|                  NULL|       39857145|  312679.0|127.46984927033795|PL_2020-01-15|\n",
      "|          PL|      Poland|2020-01-16|                   0|         NULL|             NULL|      NULL|                  0|           0|                         NULL|                  NULL|       39857145|  312679.0|127.46984927033795|PL_2020-01-16|\n",
      "|          PL|      Poland|2020-01-17|                   0|         NULL|             NULL|      NULL|                  0|           0|                         NULL|                  NULL|       39857145|  312679.0|127.46984927033795|PL_2020-01-17|\n",
      "|          PL|      Poland|2020-01-18|                   0|         NULL|             NULL|      NULL|                  0|           0|                         NULL|                  NULL|       39857145|  312679.0|127.46984927033795|PL_2020-01-18|\n",
      "|          PL|      Poland|2020-01-19|                   0|         NULL|             NULL|      NULL|                  0|           0|                         NULL|                  NULL|       39857145|  312679.0|127.46984927033795|PL_2020-01-19|\n",
      "|          PL|      Poland|2020-01-20|                   0|         NULL|             NULL|      NULL|                  0|           0|                         NULL|                  NULL|       39857145|  312679.0|127.46984927033795|PL_2020-01-20|\n",
      "+------------+------------+----------+--------------------+-------------+-----------------+----------+-------------------+------------+-----------------------------+----------------------+---------------+----------+------------------+-------------+\n",
      "only showing top 20 rows\n",
      "\n"
     ]
    }
   ],
   "source": [
    "df.filter(\"location_key == 'PL'\").show()"
   ]
  },
  {
   "cell_type": "markdown",
   "id": "b30a56b1",
   "metadata": {},
   "source": [
    "Kraje w którch nowe zarażenia jakiegoś dnia przekroczyły milion"
   ]
  },
  {
   "cell_type": "code",
   "execution_count": 20,
   "id": "62b611aa-3ed1-486c-a068-5502c1af9dc6",
   "metadata": {},
   "outputs": [
    {
     "name": "stdout",
     "output_type": "stream",
     "text": [
      "+--------------------+\n",
      "|        country_name|\n",
      "+--------------------+\n",
      "|            Mongolia|\n",
      "|               Japan|\n",
      "|              France|\n",
      "|               Italy|\n",
      "|           Australia|\n",
      "|             Austria|\n",
      "|               India|\n",
      "|         South Korea|\n",
      "|            Pakistan|\n",
      "|      United Kingdom|\n",
      "|              Russia|\n",
      "|United States of ...|\n",
      "+--------------------+\n",
      "\n"
     ]
    }
   ],
   "source": [
    "df.filter(\"new_confirmed > 1000000\").select('country_name').distinct().show()"
   ]
  },
  {
   "cell_type": "markdown",
   "id": "30e40866",
   "metadata": {},
   "source": [
    "Kraje w którch zarażenia skumulowane były mniejsze od nowych co oznacza błąd w prowadzeniu danych"
   ]
  },
  {
   "cell_type": "code",
   "execution_count": 21,
   "id": "63eb9774-4ffb-4f70-a28b-cf21d63bc9bb",
   "metadata": {},
   "outputs": [
    {
     "name": "stdout",
     "output_type": "stream",
     "text": [
      "+--------------------+\n",
      "|        country_name|\n",
      "+--------------------+\n",
      "|             Belgium|\n",
      "|             Belarus|\n",
      "|             Bolivia|\n",
      "|             Morocco|\n",
      "|             Iceland|\n",
      "|             Uruguay|\n",
      "|              Mexico|\n",
      "|            Zimbabwe|\n",
      "|United Arab Emirates|\n",
      "|            Botswana|\n",
      "|             Bahrain|\n",
      "|            Paraguay|\n",
      "|              Malawi|\n",
      "|           Argentina|\n",
      "|             Myanmar|\n",
      "|          Mauritania|\n",
      "|                Laos|\n",
      "|        Saudi Arabia|\n",
      "|            Ethiopia|\n",
      "|              Brazil|\n",
      "+--------------------+\n",
      "only showing top 20 rows\n",
      "\n"
     ]
    }
   ],
   "source": [
    "df.filter(\"new_confirmed > cumulative_confirmed\").select('country_name').distinct().show()"
   ]
  },
  {
   "cell_type": "markdown",
   "id": "a332ed02",
   "metadata": {},
   "source": [
    "Kraje w którch zbierano dane o testach na Covid"
   ]
  },
  {
   "cell_type": "code",
   "execution_count": 22,
   "id": "2a46afe5-a552-489a-aee4-dab18d7dff8c",
   "metadata": {},
   "outputs": [
    {
     "name": "stdout",
     "output_type": "stream",
     "text": [
      "+--------------------+\n",
      "|        country_name|\n",
      "+--------------------+\n",
      "|   Equatorial Guinea|\n",
      "|             Belgium|\n",
      "|             Belarus|\n",
      "|             Bolivia|\n",
      "|             Morocco|\n",
      "|             Iceland|\n",
      "|             Uruguay|\n",
      "|              Mexico|\n",
      "|            Zimbabwe|\n",
      "|United Arab Emirates|\n",
      "|            Botswana|\n",
      "|        Burkina Faso|\n",
      "|             Bahrain|\n",
      "|            Paraguay|\n",
      "|              Malawi|\n",
      "|           Argentina|\n",
      "|             Myanmar|\n",
      "|      Cayman Islands|\n",
      "|          Mauritania|\n",
      "|            Barbados|\n",
      "+--------------------+\n",
      "only showing top 20 rows\n",
      "\n"
     ]
    }
   ],
   "source": [
    "df.filter(col(\"new_tested\").isNotNull()).select('country_name').distinct().show()"
   ]
  },
  {
   "cell_type": "markdown",
   "id": "60230819",
   "metadata": {},
   "source": [
    "Kraje w którch zarażenia wpisano już pierwszego dnia z którego zbierane są dane"
   ]
  },
  {
   "cell_type": "code",
   "execution_count": 23,
   "id": "495214fa-c540-43db-98a0-03239ec46fd4",
   "metadata": {},
   "outputs": [
    {
     "name": "stdout",
     "output_type": "stream",
     "text": [
      "+------------+-------------+\n",
      "|country_name|new_confirmed|\n",
      "+------------+-------------+\n",
      "|      Brazil|         1154|\n",
      "|      Mexico|           72|\n",
      "|   Argentina|            4|\n",
      "+------------+-------------+\n",
      "\n"
     ]
    }
   ],
   "source": [
    "df.filter(\"date == '2020-01-01'\").filter(col('new_confirmed').isNotNull()).select('country_name', 'new_confirmed').orderBy('new_confirmed', ascending=False).show()"
   ]
  },
  {
   "cell_type": "markdown",
   "id": "208cf536",
   "metadata": {},
   "source": [
    "Kraj z najwyższą liczbą skumulowanych zarażeń"
   ]
  },
  {
   "cell_type": "code",
   "execution_count": 24,
   "id": "c394ceea-eb96-4970-9432-af045f45bf6a",
   "metadata": {},
   "outputs": [
    {
     "name": "stdout",
     "output_type": "stream",
     "text": [
      "+------------+-----------------------------+\n",
      "|country_name|cumulative_persons_vaccinated|\n",
      "+------------+-----------------------------+\n",
      "|       China|                   1302773000|\n",
      "+------------+-----------------------------+\n",
      "only showing top 1 row\n",
      "\n"
     ]
    }
   ],
   "source": [
    "df.filter(col('cumulative_persons_vaccinated').isNotNull()).select('country_name', 'cumulative_persons_vaccinated').orderBy('cumulative_persons_vaccinated', ascending=False).show(1)"
   ]
  },
  {
   "cell_type": "markdown",
   "id": "6c381f5a",
   "metadata": {},
   "source": [
    "Kraj z najwyższą liczbą nowych zarażeń"
   ]
  },
  {
   "cell_type": "code",
   "execution_count": 25,
   "id": "8d424236-fe3a-4e3d-84e9-36d354a0c6dc",
   "metadata": {},
   "outputs": [
    {
     "name": "stdout",
     "output_type": "stream",
     "text": [
      "+------------+----------------------+\n",
      "|country_name|new_persons_vaccinated|\n",
      "+------------+----------------------+\n",
      "|       China|             450500000|\n",
      "+------------+----------------------+\n",
      "only showing top 1 row\n",
      "\n"
     ]
    }
   ],
   "source": [
    "df.filter(col('new_persons_vaccinated').isNotNull()).select('country_name', 'new_persons_vaccinated').orderBy('new_persons_vaccinated', ascending=False).show(1)"
   ]
  },
  {
   "cell_type": "markdown",
   "id": "3da2eac0-35a7-40f1-9bbf-94ed23ead436",
   "metadata": {},
   "source": [
    "## 2.7 Wykonaj 5 agregacji na swoim DF (np. min, max, agg, count, mean) uprzednio pogrupowawszy kolumny (groupBy)."
   ]
  },
  {
   "cell_type": "code",
   "execution_count": 26,
   "id": "9c42e102-fb9a-43af-bcee-7c0ae39b250e",
   "metadata": {},
   "outputs": [],
   "source": [
    "from pyspark.sql.functions import min, max, count, mean, sum"
   ]
  },
  {
   "cell_type": "code",
   "execution_count": 27,
   "id": "75fd60fe-9887-40cd-8004-b2e8b101f75a",
   "metadata": {},
   "outputs": [
    {
     "name": "stdout",
     "output_type": "stream",
     "text": [
      "+-------------------+-----------------+-----------------+-------------------+------------------+-----------------+\n",
      "|       country_name|min_new_confirmed|max_new_confirmed|count_new_confirmed|mean_new_confirmed|sum_new_confirmed|\n",
      "+-------------------+-----------------+-----------------+-------------------+------------------+-----------------+\n",
      "|        Afghanistan|             NULL|             NULL|                  0|              NULL|             NULL|\n",
      "|            Albania|                1|             8746|                720|2241.4861111111113|          1613870|\n",
      "|            Algeria|             NULL|             NULL|                  0|              NULL|             NULL|\n",
      "|     American Samoa|             NULL|             NULL|                  0|              NULL|             NULL|\n",
      "|            Andorra|             NULL|             NULL|                  0|              NULL|             NULL|\n",
      "|             Angola|             1459|            13038|                  5|            5627.2|            28136|\n",
      "|           Anguilla|             NULL|             NULL|                  0|              NULL|             NULL|\n",
      "|         Antarctica|             NULL|             NULL|                  0|              NULL|             NULL|\n",
      "|Antigua and Barbuda|             NULL|             NULL|                  0|              NULL|             NULL|\n",
      "|          Argentina|                0|           253506|                881| 32066.78206583428|         28250835|\n",
      "|            Armenia|                1|            19360|                837|3706.4121863799282|          3102267|\n",
      "|              Aruba|              365|              428|                  2|             396.5|              793|\n",
      "|          Australia|         -5147672|          5264347|                924|   85110.170995671|         78641798|\n",
      "|            Austria|           -76893|          2945871|                898|218992.47216035635|        196655240|\n",
      "|         Azerbaijan|             3512|            42422|                150|           11442.9|          1716435|\n",
      "|            Bahamas|               61|             1774|                 92|475.39130434782606|            43736|\n",
      "|            Bahrain|              232|            36406|                489|12138.087934560328|          5935525|\n",
      "|         Bangladesh|              203|            55284|                739| 18702.17050067659|         13820904|\n",
      "|           Barbados|              734|             1016|                  7| 907.2857142857143|             6351|\n",
      "|            Belarus|             1000|            50465|                 96|15088.197916666666|          1448467|\n",
      "+-------------------+-----------------+-----------------+-------------------+------------------+-----------------+\n",
      "only showing top 20 rows\n",
      "\n"
     ]
    }
   ],
   "source": [
    "agg_df = df.groupBy(\"country_name\").agg(\n",
    "    min(\"new_confirmed\").alias(\"min_new_confirmed\"),\n",
    "    max(\"new_confirmed\").alias(\"max_new_confirmed\"),\n",
    "    count(\"new_confirmed\").alias(\"count_new_confirmed\"),\n",
    "    mean(\"new_confirmed\").alias(\"mean_new_confirmed\"),\n",
    "    sum(\"new_confirmed\").alias(\"sum_new_confirmed\")\n",
    ")\n",
    "agg_df.orderBy('country_name').show()"
   ]
  },
  {
   "cell_type": "markdown",
   "id": "3323eec0-2a0c-40d9-8442-71cd8387b6e6",
   "metadata": {},
   "source": [
    "# 4 Misja dodatkowa - Mapowanie"
   ]
  },
  {
   "cell_type": "code",
   "execution_count": 28,
   "id": "4b5c1c4e-618e-4ad1-9562-e239de01403d",
   "metadata": {},
   "outputs": [
    {
     "name": "stdout",
     "output_type": "stream",
     "text": [
      "+------------+------------+----------+----------+-----+------+-----+\n",
      "|location_key|country_name|      date|population|cases|deaths|tests|\n",
      "+------------+------------+----------+----------+-----+------+-----+\n",
      "|          AD|     Andorra|2020-01-01|     79824| NULL|   0.0| NULL|\n",
      "|          AD|     Andorra|2020-01-02|     79824| NULL|   0.0| NULL|\n",
      "|          AD|     Andorra|2020-01-03|     79824| NULL|   0.0| NULL|\n",
      "|          AD|     Andorra|2020-01-04|     79824| NULL|   0.0| NULL|\n",
      "|          AD|     Andorra|2020-01-05|     79824| NULL|   0.0| NULL|\n",
      "|          AD|     Andorra|2020-01-06|     79824| NULL|   0.0| NULL|\n",
      "|          AD|     Andorra|2020-01-07|     79824| NULL|   0.0| NULL|\n",
      "|          AD|     Andorra|2020-01-08|     79824| NULL|   0.0| NULL|\n",
      "|          AD|     Andorra|2020-01-09|     79824| NULL|   0.0| NULL|\n",
      "|          AD|     Andorra|2020-01-10|     79824| NULL|   0.0| NULL|\n",
      "|          AD|     Andorra|2020-01-11|     79824| NULL|   0.0| NULL|\n",
      "|          AD|     Andorra|2020-01-12|     79824| NULL|   0.0| NULL|\n",
      "|          AD|     Andorra|2020-01-13|     79824| NULL|   0.0| NULL|\n",
      "|          AD|     Andorra|2020-01-14|     79824| NULL|   0.0| NULL|\n",
      "|          AD|     Andorra|2020-01-15|     79824| NULL|   0.0| NULL|\n",
      "|          AD|     Andorra|2020-01-16|     79824| NULL|   0.0| NULL|\n",
      "|          AD|     Andorra|2020-01-17|     79824| NULL|   0.0| NULL|\n",
      "|          AD|     Andorra|2020-01-18|     79824| NULL|   0.0| NULL|\n",
      "|          AD|     Andorra|2020-01-19|     79824| NULL|   0.0| NULL|\n",
      "|          AD|     Andorra|2020-01-20|     79824| NULL|   0.0| NULL|\n",
      "+------------+------------+----------+----------+-----+------+-----+\n",
      "only showing top 20 rows\n",
      "\n"
     ]
    }
   ],
   "source": [
    "from pyspark.sql import SparkSession\n",
    "from pyspark.sql import Row\n",
    "from pyspark.sql.types import StructType, StructField, StringType, DoubleType, LongType\n",
    "\n",
    "df_to_normalize = df.select('location_key', 'country_name', 'date', 'new_confirmed', 'new_tested', 'new_deceased', '2022 Population')\n",
    "\n",
    "schema = StructType([\n",
    "    StructField(\"location_key\", StringType(), True),\n",
    "    StructField(\"country_name\", StringType(), True),\n",
    "    StructField(\"date\", DateType(), True),\n",
    "    StructField(\"population\", LongType(), True),\n",
    "    StructField(\"cases\", DoubleType(), True),\n",
    "    StructField(\"deaths\", DoubleType(), True),\n",
    "    StructField(\"tests\", DoubleType(), True)\n",
    "])\n",
    "\n",
    "def normalize(row):\n",
    "    location_key = row['location_key']\n",
    "    country_name = row['country_name']\n",
    "    date = row['date']\n",
    "    population = row['2022 Population']\n",
    "    \n",
    "    normalized_cases = None\n",
    "    normalized_deaths = None\n",
    "    normalized_tests = None\n",
    "\n",
    "    if population and population != 0:\n",
    "        if row['new_confirmed'] is not None:\n",
    "            normalized_cases = (row['new_confirmed'] / population) * 1000\n",
    "        if row['new_deceased'] is not None:\n",
    "            normalized_deaths = (row['new_deceased'] / population) * 1000\n",
    "        if row['new_tested'] is not None:\n",
    "            normalized_tests = (row['new_tested'] / population) * 1000\n",
    "\n",
    "    return (location_key, country_name, date, population, normalized_cases, normalized_deaths, normalized_tests)\n",
    "\n",
    "normalized_rdd = df_to_normalize.rdd.map(normalize)\n",
    "normalized_df = spark.createDataFrame(normalized_rdd, schema)\n",
    "\n",
    "normalized_df.show()"
   ]
  },
  {
   "cell_type": "markdown",
   "id": "3677b5c6",
   "metadata": {},
   "source": [
    "# zapis do csv"
   ]
  },
  {
   "cell_type": "code",
   "execution_count": 36,
   "id": "642881bd-89ad-4232-aa15-49914d734aed",
   "metadata": {},
   "outputs": [
    {
     "name": "stderr",
     "output_type": "stream",
     "text": [
      "                                                                                \r"
     ]
    }
   ],
   "source": [
    "output_path1 = \"/spark/csv_df\"\n",
    "output_path2 = \"/spark/csv_norm_df\"\n",
    "df.write.csv(output_path1, header=True, mode=\"overwrite\")\n",
    "normalized_df.write.csv(output_path2, header=True, mode=\"overwrite\")"
   ]
  }
 ],
 "metadata": {
  "kernelspec": {
   "display_name": "Python 3 (ipykernel)",
   "language": "python",
   "name": "python3"
  },
  "language_info": {
   "codemirror_mode": {
    "name": "ipython",
    "version": 3
   },
   "file_extension": ".py",
   "mimetype": "text/x-python",
   "name": "python",
   "nbconvert_exporter": "python",
   "pygments_lexer": "ipython3",
   "version": "3.10.12"
  }
 },
 "nbformat": 4,
 "nbformat_minor": 5
}
